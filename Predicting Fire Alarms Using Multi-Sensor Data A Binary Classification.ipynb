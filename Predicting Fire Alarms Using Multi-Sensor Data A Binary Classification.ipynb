{
 "cells": [
  {
   "cell_type": "markdown",
   "id": "16e87c87",
   "metadata": {
    "papermill": {
     "duration": 0.01157,
     "end_time": "2022-09-13T14:57:53.114019",
     "exception": false,
     "start_time": "2022-09-13T14:57:53.102449",
     "status": "completed"
    },
    "tags": []
   },
   "source": [
    "# Predicting Fire Alarms Using Multi-Sensor Data A Binary Classification"
   ]
  },
  {
   "cell_type": "markdown",
   "id": "99f621e5",
   "metadata": {
    "papermill": {
     "duration": 0.009889,
     "end_time": "2022-09-13T14:57:53.155570",
     "exception": false,
     "start_time": "2022-09-13T14:57:53.145681",
     "status": "completed"
    },
    "tags": []
   },
   "source": [
    "## Importing libraries"
   ]
  },
  {
   "cell_type": "code",
   "execution_count": 3,
   "id": "abc0510d",
   "metadata": {
    "execution": {
     "iopub.execute_input": "2022-09-13T14:57:53.180145Z",
     "iopub.status.busy": "2022-09-13T14:57:53.179306Z",
     "iopub.status.idle": "2022-09-13T14:57:54.761891Z",
     "shell.execute_reply": "2022-09-13T14:57:54.760764Z"
    },
    "papermill": {
     "duration": 1.597283,
     "end_time": "2022-09-13T14:57:54.764720",
     "exception": false,
     "start_time": "2022-09-13T14:57:53.167437",
     "status": "completed"
    },
    "tags": []
   },
   "outputs": [],
   "source": [
    "# Reading the data and dataset manipulation\n",
    "import pandas as pd\n",
    "\n",
    "# Linear algebra\n",
    "import numpy as np\n",
    "\n",
    "# Graphs\n",
    "import matplotlib.pyplot as plt\n",
    "import seaborn as sns\n",
    "%matplotlib inline\n",
    "\n",
    "# Preprocessing\n",
    "from sklearn.preprocessing import StandardScaler, MinMaxScaler\n",
    "\n",
    "# Models\n",
    "from sklearn.linear_model import LogisticRegression\n",
    "from sklearn.ensemble import RandomForestClassifier, AdaBoostClassifier\n",
    "\n",
    "# Pipeline\n",
    "from sklearn.pipeline import Pipeline\n",
    "\n",
    "# Model selection\n",
    "\n",
    "from sklearn.model_selection import GridSearchCV, train_test_split\n",
    "\n",
    "# Model evaluation\n",
    "from sklearn.metrics import accuracy_score, f1_score, recall_score, precision_score, auc\n",
    "import warnings\n",
    "warnings.filterwarnings('ignore')"
   ]
  },
  {
   "cell_type": "markdown",
   "id": "92125377",
   "metadata": {
    "papermill": {
     "duration": 0.009986,
     "end_time": "2022-09-13T14:57:54.835758",
     "exception": false,
     "start_time": "2022-09-13T14:57:54.825772",
     "status": "completed"
    },
    "tags": []
   },
   "source": [
    "## Reading the dataset"
   ]
  },
  {
   "cell_type": "code",
   "execution_count": 4,
   "id": "6b112ed4",
   "metadata": {
    "execution": {
     "iopub.execute_input": "2022-09-13T14:57:54.858683Z",
     "iopub.status.busy": "2022-09-13T14:57:54.858284Z",
     "iopub.status.idle": "2022-09-13T14:57:54.863267Z",
     "shell.execute_reply": "2022-09-13T14:57:54.862136Z"
    },
    "papermill": {
     "duration": 0.018875,
     "end_time": "2022-09-13T14:57:54.865348",
     "exception": false,
     "start_time": "2022-09-13T14:57:54.846473",
     "status": "completed"
    },
    "tags": []
   },
   "outputs": [],
   "source": [
    "filename = 'smoke_detection_iot.csv'"
   ]
  },
  {
   "cell_type": "code",
   "execution_count": 5,
   "id": "ac2d37fd",
   "metadata": {
    "execution": {
     "iopub.execute_input": "2022-09-13T14:57:54.888318Z",
     "iopub.status.busy": "2022-09-13T14:57:54.887628Z",
     "iopub.status.idle": "2022-09-13T14:57:55.112339Z",
     "shell.execute_reply": "2022-09-13T14:57:55.111257Z"
    },
    "papermill": {
     "duration": 0.239814,
     "end_time": "2022-09-13T14:57:55.115687",
     "exception": false,
     "start_time": "2022-09-13T14:57:54.875873",
     "status": "completed"
    },
    "tags": []
   },
   "outputs": [
    {
     "data": {
      "text/html": [
       "<div>\n",
       "<style scoped>\n",
       "    .dataframe tbody tr th:only-of-type {\n",
       "        vertical-align: middle;\n",
       "    }\n",
       "\n",
       "    .dataframe tbody tr th {\n",
       "        vertical-align: top;\n",
       "    }\n",
       "\n",
       "    .dataframe thead th {\n",
       "        text-align: right;\n",
       "    }\n",
       "</style>\n",
       "<table border=\"1\" class=\"dataframe\">\n",
       "  <thead>\n",
       "    <tr style=\"text-align: right;\">\n",
       "      <th></th>\n",
       "      <th>UTC</th>\n",
       "      <th>Temperature[C]</th>\n",
       "      <th>Humidity[%]</th>\n",
       "      <th>TVOC[ppb]</th>\n",
       "      <th>eCO2[ppm]</th>\n",
       "      <th>Raw H2</th>\n",
       "      <th>Raw Ethanol</th>\n",
       "      <th>Pressure[hPa]</th>\n",
       "      <th>PM1.0</th>\n",
       "      <th>PM2.5</th>\n",
       "      <th>NC0.5</th>\n",
       "      <th>NC1.0</th>\n",
       "      <th>NC2.5</th>\n",
       "      <th>CNT</th>\n",
       "      <th>Fire Alarm</th>\n",
       "    </tr>\n",
       "  </thead>\n",
       "  <tbody>\n",
       "    <tr>\n",
       "      <th>0</th>\n",
       "      <td>1654733331</td>\n",
       "      <td>20.000</td>\n",
       "      <td>57.36</td>\n",
       "      <td>0</td>\n",
       "      <td>400</td>\n",
       "      <td>12306</td>\n",
       "      <td>18520</td>\n",
       "      <td>939.735</td>\n",
       "      <td>0.0</td>\n",
       "      <td>0.0</td>\n",
       "      <td>0.0</td>\n",
       "      <td>0.0</td>\n",
       "      <td>0.0</td>\n",
       "      <td>0</td>\n",
       "      <td>0</td>\n",
       "    </tr>\n",
       "    <tr>\n",
       "      <th>1</th>\n",
       "      <td>1654733332</td>\n",
       "      <td>20.015</td>\n",
       "      <td>56.67</td>\n",
       "      <td>0</td>\n",
       "      <td>400</td>\n",
       "      <td>12345</td>\n",
       "      <td>18651</td>\n",
       "      <td>939.744</td>\n",
       "      <td>0.0</td>\n",
       "      <td>0.0</td>\n",
       "      <td>0.0</td>\n",
       "      <td>0.0</td>\n",
       "      <td>0.0</td>\n",
       "      <td>1</td>\n",
       "      <td>0</td>\n",
       "    </tr>\n",
       "    <tr>\n",
       "      <th>2</th>\n",
       "      <td>1654733333</td>\n",
       "      <td>20.029</td>\n",
       "      <td>55.96</td>\n",
       "      <td>0</td>\n",
       "      <td>400</td>\n",
       "      <td>12374</td>\n",
       "      <td>18764</td>\n",
       "      <td>939.738</td>\n",
       "      <td>0.0</td>\n",
       "      <td>0.0</td>\n",
       "      <td>0.0</td>\n",
       "      <td>0.0</td>\n",
       "      <td>0.0</td>\n",
       "      <td>2</td>\n",
       "      <td>0</td>\n",
       "    </tr>\n",
       "    <tr>\n",
       "      <th>3</th>\n",
       "      <td>1654733334</td>\n",
       "      <td>20.044</td>\n",
       "      <td>55.28</td>\n",
       "      <td>0</td>\n",
       "      <td>400</td>\n",
       "      <td>12390</td>\n",
       "      <td>18849</td>\n",
       "      <td>939.736</td>\n",
       "      <td>0.0</td>\n",
       "      <td>0.0</td>\n",
       "      <td>0.0</td>\n",
       "      <td>0.0</td>\n",
       "      <td>0.0</td>\n",
       "      <td>3</td>\n",
       "      <td>0</td>\n",
       "    </tr>\n",
       "    <tr>\n",
       "      <th>4</th>\n",
       "      <td>1654733335</td>\n",
       "      <td>20.059</td>\n",
       "      <td>54.69</td>\n",
       "      <td>0</td>\n",
       "      <td>400</td>\n",
       "      <td>12403</td>\n",
       "      <td>18921</td>\n",
       "      <td>939.744</td>\n",
       "      <td>0.0</td>\n",
       "      <td>0.0</td>\n",
       "      <td>0.0</td>\n",
       "      <td>0.0</td>\n",
       "      <td>0.0</td>\n",
       "      <td>4</td>\n",
       "      <td>0</td>\n",
       "    </tr>\n",
       "  </tbody>\n",
       "</table>\n",
       "</div>"
      ],
      "text/plain": [
       "          UTC  Temperature[C]  Humidity[%]  TVOC[ppb]  eCO2[ppm]  Raw H2  \\\n",
       "0  1654733331          20.000        57.36          0        400   12306   \n",
       "1  1654733332          20.015        56.67          0        400   12345   \n",
       "2  1654733333          20.029        55.96          0        400   12374   \n",
       "3  1654733334          20.044        55.28          0        400   12390   \n",
       "4  1654733335          20.059        54.69          0        400   12403   \n",
       "\n",
       "   Raw Ethanol  Pressure[hPa]  PM1.0  PM2.5  NC0.5  NC1.0  NC2.5  CNT  \\\n",
       "0        18520        939.735    0.0    0.0    0.0    0.0    0.0    0   \n",
       "1        18651        939.744    0.0    0.0    0.0    0.0    0.0    1   \n",
       "2        18764        939.738    0.0    0.0    0.0    0.0    0.0    2   \n",
       "3        18849        939.736    0.0    0.0    0.0    0.0    0.0    3   \n",
       "4        18921        939.744    0.0    0.0    0.0    0.0    0.0    4   \n",
       "\n",
       "   Fire Alarm  \n",
       "0           0  \n",
       "1           0  \n",
       "2           0  \n",
       "3           0  \n",
       "4           0  "
      ]
     },
     "execution_count": 5,
     "metadata": {},
     "output_type": "execute_result"
    }
   ],
   "source": [
    "data = pd.read_csv(filename, index_col=0)\n",
    "data.head()"
   ]
  },
  {
   "cell_type": "markdown",
   "id": "3faa2ce8",
   "metadata": {
    "papermill": {
     "duration": 0.010181,
     "end_time": "2022-09-13T14:57:55.136593",
     "exception": false,
     "start_time": "2022-09-13T14:57:55.126412",
     "status": "completed"
    },
    "tags": []
   },
   "source": [
    "## Exploring the dataset"
   ]
  },
  {
   "cell_type": "code",
   "execution_count": 6,
   "id": "74b51060",
   "metadata": {
    "execution": {
     "iopub.execute_input": "2022-09-13T14:57:55.160315Z",
     "iopub.status.busy": "2022-09-13T14:57:55.159879Z",
     "iopub.status.idle": "2022-09-13T14:57:55.166403Z",
     "shell.execute_reply": "2022-09-13T14:57:55.165440Z"
    },
    "papermill": {
     "duration": 0.021224,
     "end_time": "2022-09-13T14:57:55.168477",
     "exception": false,
     "start_time": "2022-09-13T14:57:55.147253",
     "status": "completed"
    },
    "tags": []
   },
   "outputs": [
    {
     "data": {
      "text/plain": [
       "(62630, 15)"
      ]
     },
     "execution_count": 6,
     "metadata": {},
     "output_type": "execute_result"
    }
   ],
   "source": [
    "data.shape"
   ]
  },
  {
   "cell_type": "code",
   "execution_count": 7,
   "id": "1acb2eab",
   "metadata": {
    "execution": {
     "iopub.execute_input": "2022-09-13T14:57:55.193747Z",
     "iopub.status.busy": "2022-09-13T14:57:55.192767Z",
     "iopub.status.idle": "2022-09-13T14:57:55.215034Z",
     "shell.execute_reply": "2022-09-13T14:57:55.214010Z"
    },
    "papermill": {
     "duration": 0.038072,
     "end_time": "2022-09-13T14:57:55.217746",
     "exception": false,
     "start_time": "2022-09-13T14:57:55.179674",
     "status": "completed"
    },
    "tags": []
   },
   "outputs": [
    {
     "data": {
      "text/plain": [
       "<bound method DataFrame.info of               UTC  Temperature[C]  Humidity[%]  TVOC[ppb]  eCO2[ppm]  Raw H2  \\\n",
       "0      1654733331          20.000        57.36          0        400   12306   \n",
       "1      1654733332          20.015        56.67          0        400   12345   \n",
       "2      1654733333          20.029        55.96          0        400   12374   \n",
       "3      1654733334          20.044        55.28          0        400   12390   \n",
       "4      1654733335          20.059        54.69          0        400   12403   \n",
       "...           ...             ...          ...        ...        ...     ...   \n",
       "62625  1655130047          18.438        15.79        625        400   13723   \n",
       "62626  1655130048          18.653        15.87        612        400   13731   \n",
       "62627  1655130049          18.867        15.84        627        400   13725   \n",
       "62628  1655130050          19.083        16.04        638        400   13712   \n",
       "62629  1655130051          19.299        16.52        643        400   13696   \n",
       "\n",
       "       Raw Ethanol  Pressure[hPa]  PM1.0  PM2.5  NC0.5  NC1.0  NC2.5   CNT  \\\n",
       "0            18520        939.735   0.00   0.00   0.00  0.000  0.000     0   \n",
       "1            18651        939.744   0.00   0.00   0.00  0.000  0.000     1   \n",
       "2            18764        939.738   0.00   0.00   0.00  0.000  0.000     2   \n",
       "3            18849        939.736   0.00   0.00   0.00  0.000  0.000     3   \n",
       "4            18921        939.744   0.00   0.00   0.00  0.000  0.000     4   \n",
       "...            ...            ...    ...    ...    ...    ...    ...   ...   \n",
       "62625        20569        936.670   0.63   0.65   4.32  0.673  0.015  5739   \n",
       "62626        20588        936.678   0.61   0.63   4.18  0.652  0.015  5740   \n",
       "62627        20582        936.687   0.57   0.60   3.95  0.617  0.014  5741   \n",
       "62628        20566        936.680   0.57   0.59   3.92  0.611  0.014  5742   \n",
       "62629        20543        936.676   0.57   0.59   3.90  0.607  0.014  5743   \n",
       "\n",
       "       Fire Alarm  \n",
       "0               0  \n",
       "1               0  \n",
       "2               0  \n",
       "3               0  \n",
       "4               0  \n",
       "...           ...  \n",
       "62625           0  \n",
       "62626           0  \n",
       "62627           0  \n",
       "62628           0  \n",
       "62629           0  \n",
       "\n",
       "[62630 rows x 15 columns]>"
      ]
     },
     "execution_count": 7,
     "metadata": {},
     "output_type": "execute_result"
    }
   ],
   "source": [
    "data.info"
   ]
  },
  {
   "cell_type": "markdown",
   "id": "9ff80512",
   "metadata": {
    "papermill": {
     "duration": 0.01081,
     "end_time": "2022-09-13T14:57:55.240229",
     "exception": false,
     "start_time": "2022-09-13T14:57:55.229419",
     "status": "completed"
    },
    "tags": []
   },
   "source": [
    "There are no missing values in the dataset, and all of the data is numeric."
   ]
  },
  {
   "cell_type": "code",
   "execution_count": 8,
   "id": "0b16af2f",
   "metadata": {
    "execution": {
     "iopub.execute_input": "2022-09-13T14:57:55.265021Z",
     "iopub.status.busy": "2022-09-13T14:57:55.264376Z",
     "iopub.status.idle": "2022-09-13T14:57:55.354573Z",
     "shell.execute_reply": "2022-09-13T14:57:55.352910Z"
    },
    "papermill": {
     "duration": 0.10641,
     "end_time": "2022-09-13T14:57:55.357966",
     "exception": false,
     "start_time": "2022-09-13T14:57:55.251556",
     "status": "completed"
    },
    "tags": []
   },
   "outputs": [
    {
     "data": {
      "text/plain": [
       "<bound method NDFrame.describe of               UTC  Temperature[C]  Humidity[%]  TVOC[ppb]  eCO2[ppm]  Raw H2  \\\n",
       "0      1654733331          20.000        57.36          0        400   12306   \n",
       "1      1654733332          20.015        56.67          0        400   12345   \n",
       "2      1654733333          20.029        55.96          0        400   12374   \n",
       "3      1654733334          20.044        55.28          0        400   12390   \n",
       "4      1654733335          20.059        54.69          0        400   12403   \n",
       "...           ...             ...          ...        ...        ...     ...   \n",
       "62625  1655130047          18.438        15.79        625        400   13723   \n",
       "62626  1655130048          18.653        15.87        612        400   13731   \n",
       "62627  1655130049          18.867        15.84        627        400   13725   \n",
       "62628  1655130050          19.083        16.04        638        400   13712   \n",
       "62629  1655130051          19.299        16.52        643        400   13696   \n",
       "\n",
       "       Raw Ethanol  Pressure[hPa]  PM1.0  PM2.5  NC0.5  NC1.0  NC2.5   CNT  \\\n",
       "0            18520        939.735   0.00   0.00   0.00  0.000  0.000     0   \n",
       "1            18651        939.744   0.00   0.00   0.00  0.000  0.000     1   \n",
       "2            18764        939.738   0.00   0.00   0.00  0.000  0.000     2   \n",
       "3            18849        939.736   0.00   0.00   0.00  0.000  0.000     3   \n",
       "4            18921        939.744   0.00   0.00   0.00  0.000  0.000     4   \n",
       "...            ...            ...    ...    ...    ...    ...    ...   ...   \n",
       "62625        20569        936.670   0.63   0.65   4.32  0.673  0.015  5739   \n",
       "62626        20588        936.678   0.61   0.63   4.18  0.652  0.015  5740   \n",
       "62627        20582        936.687   0.57   0.60   3.95  0.617  0.014  5741   \n",
       "62628        20566        936.680   0.57   0.59   3.92  0.611  0.014  5742   \n",
       "62629        20543        936.676   0.57   0.59   3.90  0.607  0.014  5743   \n",
       "\n",
       "       Fire Alarm  \n",
       "0               0  \n",
       "1               0  \n",
       "2               0  \n",
       "3               0  \n",
       "4               0  \n",
       "...           ...  \n",
       "62625           0  \n",
       "62626           0  \n",
       "62627           0  \n",
       "62628           0  \n",
       "62629           0  \n",
       "\n",
       "[62630 rows x 15 columns]>"
      ]
     },
     "execution_count": 8,
     "metadata": {},
     "output_type": "execute_result"
    }
   ],
   "source": [
    "data.describe"
   ]
  },
  {
   "cell_type": "code",
   "execution_count": 9,
   "id": "63db8a3b",
   "metadata": {
    "execution": {
     "iopub.execute_input": "2022-09-13T14:57:55.384042Z",
     "iopub.status.busy": "2022-09-13T14:57:55.383502Z",
     "iopub.status.idle": "2022-09-13T14:57:55.432011Z",
     "shell.execute_reply": "2022-09-13T14:57:55.430438Z"
    },
    "papermill": {
     "duration": 0.065138,
     "end_time": "2022-09-13T14:57:55.435320",
     "exception": false,
     "start_time": "2022-09-13T14:57:55.370182",
     "status": "completed"
    },
    "tags": []
   },
   "outputs": [
    {
     "data": {
      "text/plain": [
       "UTC               0.0\n",
       "Temperature[C]    0.0\n",
       "Humidity[%]       0.0\n",
       "TVOC[ppb]         0.0\n",
       "eCO2[ppm]         0.0\n",
       "Raw H2            0.0\n",
       "Raw Ethanol       0.0\n",
       "Pressure[hPa]     0.0\n",
       "PM1.0             0.0\n",
       "PM2.5             0.0\n",
       "NC0.5             0.0\n",
       "NC1.0             0.0\n",
       "NC2.5             0.0\n",
       "CNT               0.0\n",
       "Fire Alarm        0.0\n",
       "dtype: float64"
      ]
     },
     "execution_count": 9,
     "metadata": {},
     "output_type": "execute_result"
    }
   ],
   "source": [
    "data[data.duplicated()].sum()"
   ]
  },
  {
   "cell_type": "markdown",
   "id": "22155bd4",
   "metadata": {
    "papermill": {
     "duration": 0.011168,
     "end_time": "2022-09-13T14:57:55.458674",
     "exception": false,
     "start_time": "2022-09-13T14:57:55.447506",
     "status": "completed"
    },
    "tags": []
   },
   "source": [
    "No duplicates are present in the dataset"
   ]
  },
  {
   "cell_type": "code",
   "execution_count": 10,
   "id": "9017563d",
   "metadata": {
    "execution": {
     "iopub.execute_input": "2022-09-13T14:57:55.484136Z",
     "iopub.status.busy": "2022-09-13T14:57:55.483275Z",
     "iopub.status.idle": "2022-09-13T14:57:55.542421Z",
     "shell.execute_reply": "2022-09-13T14:57:55.540744Z"
    },
    "papermill": {
     "duration": 0.075042,
     "end_time": "2022-09-13T14:57:55.545402",
     "exception": false,
     "start_time": "2022-09-13T14:57:55.470360",
     "status": "completed"
    },
    "tags": []
   },
   "outputs": [
    {
     "data": {
      "text/plain": [
       "CNT               0.673762\n",
       "Humidity[%]       0.399846\n",
       "Pressure[hPa]     0.249797\n",
       "Raw H2            0.107007\n",
       "NC2.5            -0.057707\n",
       "NC1.0            -0.082828\n",
       "PM2.5            -0.084916\n",
       "eCO2[ppm]        -0.097006\n",
       "PM1.0            -0.110552\n",
       "NC0.5            -0.128118\n",
       "Temperature[C]   -0.163902\n",
       "TVOC[ppb]        -0.214743\n",
       "Raw Ethanol      -0.340652\n",
       "UTC              -0.389404\n",
       "Name: Fire Alarm, dtype: float64"
      ]
     },
     "execution_count": 10,
     "metadata": {},
     "output_type": "execute_result"
    }
   ],
   "source": [
    "data.corr()['Fire Alarm'][:-1].sort_values(ascending=False)"
   ]
  },
  {
   "cell_type": "code",
   "execution_count": 11,
   "id": "f4d16509",
   "metadata": {
    "execution": {
     "iopub.execute_input": "2022-09-13T14:57:55.570868Z",
     "iopub.status.busy": "2022-09-13T14:57:55.570217Z",
     "iopub.status.idle": "2022-09-13T14:57:56.098293Z",
     "shell.execute_reply": "2022-09-13T14:57:56.096276Z"
    },
    "papermill": {
     "duration": 0.543954,
     "end_time": "2022-09-13T14:57:56.101131",
     "exception": false,
     "start_time": "2022-09-13T14:57:55.557177",
     "status": "completed"
    },
    "tags": []
   },
   "outputs": [
    {
     "data": {
      "image/png": "[encoded data removed]",
      "text/plain": [
       "<Figure size 432x288 with 2 Axes>"
      ]
     },
     "metadata": {
      "needs_background": "light"
     },
     "output_type": "display_data"
    }
   ],
   "source": [
    "ax = sns.heatmap(data.corr())"
   ]
  },
  {
   "cell_type": "code",
   "execution_count": 12,
   "id": "aa3a4f4f",
   "metadata": {
    "execution": {
     "iopub.execute_input": "2022-09-13T14:57:56.127225Z",
     "iopub.status.busy": "2022-09-13T14:57:56.126761Z",
     "iopub.status.idle": "2022-09-13T14:57:56.136459Z",
     "shell.execute_reply": "2022-09-13T14:57:56.134812Z"
    },
    "papermill": {
     "duration": 0.025628,
     "end_time": "2022-09-13T14:57:56.139041",
     "exception": false,
     "start_time": "2022-09-13T14:57:56.113413",
     "status": "completed"
    },
    "tags": []
   },
   "outputs": [],
   "source": [
    "target_column = 'Fire Alarm'\n",
    "X = data.loc[:, data.columns != target_column]\n",
    "y = data[[target_column]]"
   ]
  },
  {
   "cell_type": "markdown",
   "id": "d74d4ffa",
   "metadata": {
    "papermill": {
     "duration": 0.011643,
     "end_time": "2022-09-13T14:57:56.162891",
     "exception": false,
     "start_time": "2022-09-13T14:57:56.151248",
     "status": "completed"
    },
    "tags": []
   },
   "source": [
    "## Scaling the feature columns"
   ]
  },
  {
   "cell_type": "code",
   "execution_count": 13,
   "id": "49bd50ff",
   "metadata": {
    "execution": {
     "iopub.execute_input": "2022-09-13T14:57:56.188735Z",
     "iopub.status.busy": "2022-09-13T14:57:56.188322Z",
     "iopub.status.idle": "2022-09-13T14:57:56.233553Z",
     "shell.execute_reply": "2022-09-13T14:57:56.232132Z"
    },
    "papermill": {
     "duration": 0.061021,
     "end_time": "2022-09-13T14:57:56.235918",
     "exception": false,
     "start_time": "2022-09-13T14:57:56.174897",
     "status": "completed"
    },
    "tags": []
   },
   "outputs": [
    {
     "data": {
      "text/html": [
       "<div>\n",
       "<style scoped>\n",
       "    .dataframe tbody tr th:only-of-type {\n",
       "        vertical-align: middle;\n",
       "    }\n",
       "\n",
       "    .dataframe tbody tr th {\n",
       "        vertical-align: top;\n",
       "    }\n",
       "\n",
       "    .dataframe thead th {\n",
       "        text-align: right;\n",
       "    }\n",
       "</style>\n",
       "<table border=\"1\" class=\"dataframe\">\n",
       "  <thead>\n",
       "    <tr style=\"text-align: right;\">\n",
       "      <th></th>\n",
       "      <th>UTC</th>\n",
       "      <th>Temperature[C]</th>\n",
       "      <th>Humidity[%]</th>\n",
       "      <th>TVOC[ppb]</th>\n",
       "      <th>eCO2[ppm]</th>\n",
       "      <th>Raw H2</th>\n",
       "      <th>Raw Ethanol</th>\n",
       "      <th>Pressure[hPa]</th>\n",
       "      <th>PM1.0</th>\n",
       "      <th>PM2.5</th>\n",
       "      <th>NC0.5</th>\n",
       "      <th>NC1.0</th>\n",
       "      <th>NC2.5</th>\n",
       "      <th>CNT</th>\n",
       "    </tr>\n",
       "  </thead>\n",
       "  <tbody>\n",
       "    <tr>\n",
       "      <th>0</th>\n",
       "      <td>0.050600</td>\n",
       "      <td>0.512692</td>\n",
       "      <td>0.723239</td>\n",
       "      <td>0.0</td>\n",
       "      <td>0.0</td>\n",
       "      <td>0.522488</td>\n",
       "      <td>0.525685</td>\n",
       "      <td>0.986014</td>\n",
       "      <td>0.0</td>\n",
       "      <td>0.0</td>\n",
       "      <td>0.0</td>\n",
       "      <td>0.0</td>\n",
       "      <td>0.0</td>\n",
       "      <td>0.00000</td>\n",
       "    </tr>\n",
       "    <tr>\n",
       "      <th>1</th>\n",
       "      <td>0.050603</td>\n",
       "      <td>0.512875</td>\n",
       "      <td>0.712535</td>\n",
       "      <td>0.0</td>\n",
       "      <td>0.0</td>\n",
       "      <td>0.534928</td>\n",
       "      <td>0.547185</td>\n",
       "      <td>0.987013</td>\n",
       "      <td>0.0</td>\n",
       "      <td>0.0</td>\n",
       "      <td>0.0</td>\n",
       "      <td>0.0</td>\n",
       "      <td>0.0</td>\n",
       "      <td>0.00004</td>\n",
       "    </tr>\n",
       "    <tr>\n",
       "      <th>2</th>\n",
       "      <td>0.050605</td>\n",
       "      <td>0.513046</td>\n",
       "      <td>0.701520</td>\n",
       "      <td>0.0</td>\n",
       "      <td>0.0</td>\n",
       "      <td>0.544179</td>\n",
       "      <td>0.565731</td>\n",
       "      <td>0.986347</td>\n",
       "      <td>0.0</td>\n",
       "      <td>0.0</td>\n",
       "      <td>0.0</td>\n",
       "      <td>0.0</td>\n",
       "      <td>0.0</td>\n",
       "      <td>0.00008</td>\n",
       "    </tr>\n",
       "    <tr>\n",
       "      <th>3</th>\n",
       "      <td>0.050607</td>\n",
       "      <td>0.513229</td>\n",
       "      <td>0.690971</td>\n",
       "      <td>0.0</td>\n",
       "      <td>0.0</td>\n",
       "      <td>0.549282</td>\n",
       "      <td>0.579682</td>\n",
       "      <td>0.986125</td>\n",
       "      <td>0.0</td>\n",
       "      <td>0.0</td>\n",
       "      <td>0.0</td>\n",
       "      <td>0.0</td>\n",
       "      <td>0.0</td>\n",
       "      <td>0.00012</td>\n",
       "    </tr>\n",
       "    <tr>\n",
       "      <th>4</th>\n",
       "      <td>0.050610</td>\n",
       "      <td>0.513412</td>\n",
       "      <td>0.681818</td>\n",
       "      <td>0.0</td>\n",
       "      <td>0.0</td>\n",
       "      <td>0.553429</td>\n",
       "      <td>0.591498</td>\n",
       "      <td>0.987013</td>\n",
       "      <td>0.0</td>\n",
       "      <td>0.0</td>\n",
       "      <td>0.0</td>\n",
       "      <td>0.0</td>\n",
       "      <td>0.0</td>\n",
       "      <td>0.00016</td>\n",
       "    </tr>\n",
       "  </tbody>\n",
       "</table>\n",
       "</div>"
      ],
      "text/plain": [
       "        UTC  Temperature[C]  Humidity[%]  TVOC[ppb]  eCO2[ppm]    Raw H2  \\\n",
       "0  0.050600        0.512692     0.723239        0.0        0.0  0.522488   \n",
       "1  0.050603        0.512875     0.712535        0.0        0.0  0.534928   \n",
       "2  0.050605        0.513046     0.701520        0.0        0.0  0.544179   \n",
       "3  0.050607        0.513229     0.690971        0.0        0.0  0.549282   \n",
       "4  0.050610        0.513412     0.681818        0.0        0.0  0.553429   \n",
       "\n",
       "   Raw Ethanol  Pressure[hPa]  PM1.0  PM2.5  NC0.5  NC1.0  NC2.5      CNT  \n",
       "0     0.525685       0.986014    0.0    0.0    0.0    0.0    0.0  0.00000  \n",
       "1     0.547185       0.987013    0.0    0.0    0.0    0.0    0.0  0.00004  \n",
       "2     0.565731       0.986347    0.0    0.0    0.0    0.0    0.0  0.00008  \n",
       "3     0.579682       0.986125    0.0    0.0    0.0    0.0    0.0  0.00012  \n",
       "4     0.591498       0.987013    0.0    0.0    0.0    0.0    0.0  0.00016  "
      ]
     },
     "execution_count": 13,
     "metadata": {},
     "output_type": "execute_result"
    }
   ],
   "source": [
    "scaler = MinMaxScaler()\n",
    "columns = X.columns\n",
    "X = scaler.fit_transform(X)\n",
    "X = pd.DataFrame(X, columns=columns)\n",
    "X.head()"
   ]
  },
  {
   "cell_type": "markdown",
   "id": "b7f45262",
   "metadata": {
    "papermill": {
     "duration": 0.011851,
     "end_time": "2022-09-13T14:57:56.260187",
     "exception": false,
     "start_time": "2022-09-13T14:57:56.248336",
     "status": "completed"
    },
    "tags": []
   },
   "source": [
    "## Check for unbalanced classes"
   ]
  },
  {
   "cell_type": "code",
   "execution_count": 14,
   "id": "22662f51",
   "metadata": {
    "execution": {
     "iopub.execute_input": "2022-09-13T14:57:56.288294Z",
     "iopub.status.busy": "2022-09-13T14:57:56.287856Z",
     "iopub.status.idle": "2022-09-13T14:57:56.296498Z",
     "shell.execute_reply": "2022-09-13T14:57:56.295608Z"
    },
    "papermill": {
     "duration": 0.026415,
     "end_time": "2022-09-13T14:57:56.298804",
     "exception": false,
     "start_time": "2022-09-13T14:57:56.272389",
     "status": "completed"
    },
    "tags": []
   },
   "outputs": [
    {
     "data": {
      "text/plain": [
       "1    0.714626\n",
       "0    0.285374\n",
       "Name: Fire Alarm, dtype: float64"
      ]
     },
     "execution_count": 14,
     "metadata": {},
     "output_type": "execute_result"
    }
   ],
   "source": [
    "data['Fire Alarm'].value_counts(normalize=True)"
   ]
  },
  {
   "cell_type": "markdown",
   "id": "1c46f8fb",
   "metadata": {
    "papermill": {
     "duration": 0.012151,
     "end_time": "2022-09-13T14:57:56.323503",
     "exception": false,
     "start_time": "2022-09-13T14:57:56.311352",
     "status": "completed"
    },
    "tags": []
   },
   "source": [
    "Here we can see that there is an imbalance in the classes of our target label"
   ]
  },
  {
   "cell_type": "markdown",
   "id": "3997c6fc",
   "metadata": {
    "papermill": {
     "duration": 0.012356,
     "end_time": "2022-09-13T14:57:56.348219",
     "exception": false,
     "start_time": "2022-09-13T14:57:56.335863",
     "status": "completed"
    },
    "tags": []
   },
   "source": [
    "## Split data into train and test splits"
   ]
  },
  {
   "cell_type": "markdown",
   "id": "fa31910d",
   "metadata": {
    "papermill": {
     "duration": 0.012108,
     "end_time": "2022-09-13T14:57:56.372828",
     "exception": false,
     "start_time": "2022-09-13T14:57:56.360720",
     "status": "completed"
    },
    "tags": []
   },
   "source": [
    "**Note:** since there are imbalance between classes we will stratify the train and test splits"
   ]
  },
  {
   "cell_type": "code",
   "execution_count": 15,
   "id": "f8bb7b00",
   "metadata": {
    "execution": {
     "iopub.execute_input": "2022-09-13T14:57:56.399786Z",
     "iopub.status.busy": "2022-09-13T14:57:56.399397Z",
     "iopub.status.idle": "2022-09-13T14:57:56.680800Z",
     "shell.execute_reply": "2022-09-13T14:57:56.679541Z"
    },
    "papermill": {
     "duration": 0.298238,
     "end_time": "2022-09-13T14:57:56.683567",
     "exception": false,
     "start_time": "2022-09-13T14:57:56.385329",
     "status": "completed"
    },
    "tags": []
   },
   "outputs": [],
   "source": [
    "X_train, X_test, y_train, y_test = train_test_split(X, y, stratify=y, test_size=0.2, random_state=42)"
   ]
  },
  {
   "cell_type": "code",
   "execution_count": 16,
   "id": "857768a4",
   "metadata": {
    "execution": {
     "iopub.execute_input": "2022-09-13T14:57:56.710857Z",
     "iopub.status.busy": "2022-09-13T14:57:56.709843Z",
     "iopub.status.idle": "2022-09-13T14:57:56.718945Z",
     "shell.execute_reply": "2022-09-13T14:57:56.718129Z"
    },
    "papermill": {
     "duration": 0.025011,
     "end_time": "2022-09-13T14:57:56.721168",
     "exception": false,
     "start_time": "2022-09-13T14:57:56.696157",
     "status": "completed"
    },
    "tags": []
   },
   "outputs": [
    {
     "data": {
      "text/plain": [
       "(50104, 14)"
      ]
     },
     "execution_count": 16,
     "metadata": {},
     "output_type": "execute_result"
    }
   ],
   "source": [
    "X_train.shape"
   ]
  },
  {
   "cell_type": "code",
   "execution_count": 17,
   "id": "5e9a8359",
   "metadata": {
    "execution": {
     "iopub.execute_input": "2022-09-13T14:57:56.748883Z",
     "iopub.status.busy": "2022-09-13T14:57:56.747622Z",
     "iopub.status.idle": "2022-09-13T14:57:56.759730Z",
     "shell.execute_reply": "2022-09-13T14:57:56.758584Z"
    },
    "papermill": {
     "duration": 0.028398,
     "end_time": "2022-09-13T14:57:56.762118",
     "exception": false,
     "start_time": "2022-09-13T14:57:56.733720",
     "status": "completed"
    },
    "tags": []
   },
   "outputs": [
    {
     "data": {
      "text/plain": [
       "(50104, 1)"
      ]
     },
     "execution_count": 17,
     "metadata": {},
     "output_type": "execute_result"
    }
   ],
   "source": [
    "y_train.shape"
   ]
  },
  {
   "cell_type": "code",
   "execution_count": 18,
   "id": "47877593",
   "metadata": {
    "execution": {
     "iopub.execute_input": "2022-09-13T14:57:56.790026Z",
     "iopub.status.busy": "2022-09-13T14:57:56.789356Z",
     "iopub.status.idle": "2022-09-13T14:57:56.800177Z",
     "shell.execute_reply": "2022-09-13T14:57:56.799105Z"
    },
    "papermill": {
     "duration": 0.027666,
     "end_time": "2022-09-13T14:57:56.802361",
     "exception": false,
     "start_time": "2022-09-13T14:57:56.774695",
     "status": "completed"
    },
    "tags": []
   },
   "outputs": [
    {
     "data": {
      "text/plain": [
       "LogisticRegression()"
      ]
     },
     "execution_count": 18,
     "metadata": {},
     "output_type": "execute_result"
    }
   ],
   "source": [
    "lr=LogisticRegression()\n",
    "lr.fit(X_train,y_train)"
   ]
  },
  {
   "cell_type": "code",
   "execution_count": 19,
   "id": "9f26a3ac",
   "metadata": {},
   "outputs": [
    {
     "name": "stdout",
     "output_type": "stream",
     "text": [
      "Accuracy: 96.43142264090692\n"
     ]
    }
   ],
   "source": [
    "y_pred=lr.predict(X_test)\n",
    "from sklearn.metrics import accuracy_score,classification_report,confusion_matrix\n",
    "ac=accuracy_score(y_test,y_pred)*100\n",
    "print('Accuracy:',ac)"
   ]
  },
  {
   "cell_type": "code",
   "execution_count": 20,
   "id": "96b75179",
   "metadata": {},
   "outputs": [
    {
     "name": "stdout",
     "output_type": "stream",
     "text": [
      "              precision    recall  f1-score   support\n",
      "\n",
      "           0       0.91      0.97      0.94      3575\n",
      "           1       0.99      0.96      0.97      8951\n",
      "\n",
      "    accuracy                           0.96     12526\n",
      "   macro avg       0.95      0.97      0.96     12526\n",
      "weighted avg       0.97      0.96      0.96     12526\n",
      "\n"
     ]
    }
   ],
   "source": [
    "report=classification_report(y_test,y_pred)\n",
    "print(report)"
   ]
  },
  {
   "cell_type": "code",
   "execution_count": 21,
   "id": "1379601f",
   "metadata": {},
   "outputs": [
    {
     "data": {
      "image/png": "[encoded data removed]",
      "text/plain": [
       "<Figure size 576x432 with 2 Axes>"
      ]
     },
     "metadata": {
      "needs_background": "light"
     },
     "output_type": "display_data"
    }
   ],
   "source": [
    "cm=confusion_matrix(y_test,y_pred)\n",
    "# Visualize the confusion matrix as a heatmap\n",
    "plt.figure(figsize=(8, 6))\n",
    "sns.heatmap(cm, annot=True, fmt=\"d\", cmap=\"Blues\")\n",
    "plt.xlabel('Predicted')\n",
    "plt.ylabel('True')\n",
    "plt.title('LogisticRegression Confusion Matrix Heatmap')\n",
    "plt.show()"
   ]
  },
  {
   "cell_type": "code",
   "execution_count": 24,
   "id": "c534e4fe",
   "metadata": {},
   "outputs": [
    {
     "data": {
      "text/plain": [
       "RandomForestClassifier()"
      ]
     },
     "execution_count": 24,
     "metadata": {},
     "output_type": "execute_result"
    }
   ],
   "source": [
    "rf=RandomForestClassifier()\n",
    "rf.fit(X_train,y_train)"
   ]
  },
  {
   "cell_type": "code",
   "execution_count": 25,
   "id": "22121f5f",
   "metadata": {},
   "outputs": [
    {
     "name": "stdout",
     "output_type": "stream",
     "text": [
      "Accuracy: 100.0\n"
     ]
    }
   ],
   "source": [
    "y_pred1=rf.predict(X_test)\n",
    "from sklearn.metrics import accuracy_score\n",
    "acc1=accuracy_score(y_test,y_pred1)*100\n",
    "print('Accuracy:',acc1)"
   ]
  },
  {
   "cell_type": "code",
   "execution_count": 26,
   "id": "bac4f931",
   "metadata": {},
   "outputs": [
    {
     "name": "stdout",
     "output_type": "stream",
     "text": [
      "              precision    recall  f1-score   support\n",
      "\n",
      "           0       1.00      1.00      1.00      3575\n",
      "           1       1.00      1.00      1.00      8951\n",
      "\n",
      "    accuracy                           1.00     12526\n",
      "   macro avg       1.00      1.00      1.00     12526\n",
      "weighted avg       1.00      1.00      1.00     12526\n",
      "\n"
     ]
    }
   ],
   "source": [
    "report=classification_report(y_test,y_pred1)\n",
    "print(report)"
   ]
  },
  {
   "cell_type": "code",
   "execution_count": 79,
   "id": "775f3e93",
   "metadata": {},
   "outputs": [
    {
     "data": {
      "image/png": "[encoded data removed]",
      "text/plain": [
       "<Figure size 800x600 with 2 Axes>"
      ]
     },
     "metadata": {},
     "output_type": "display_data"
    }
   ],
   "source": [
    "cm1=confusion_matrix(y_test,y_pred1)\n",
    "# Visualize the confusion matrix as a heatmap\n",
    "plt.figure(figsize=(8, 6))\n",
    "sns.heatmap(cm, annot=True, fmt=\"d\", cmap=\"Blues\")\n",
    "plt.xlabel('Predicted')\n",
    "plt.ylabel('True')\n",
    "plt.title('Random_forest Confusion Matrix Heatmap')\n",
    "plt.show()"
   ]
  },
  {
   "cell_type": "code",
   "execution_count": 27,
   "id": "4effaa01",
   "metadata": {},
   "outputs": [
    {
     "data": {
      "text/plain": [
       "array([1, 1, 0, ..., 0, 1, 1], dtype=int64)"
      ]
     },
     "execution_count": 27,
     "metadata": {},
     "output_type": "execute_result"
    }
   ],
   "source": [
    "y_pred1"
   ]
  },
  {
   "cell_type": "code",
   "execution_count": 28,
   "id": "ee7323cc",
   "metadata": {},
   "outputs": [],
   "source": [
    "prediction_df=pd.DataFrame({'Predicted':y_pred1})"
   ]
  },
  {
   "cell_type": "code",
   "execution_count": 29,
   "id": "973644ff",
   "metadata": {},
   "outputs": [
    {
     "data": {
      "text/html": [
       "<div>\n",
       "<style scoped>\n",
       "    .dataframe tbody tr th:only-of-type {\n",
       "        vertical-align: middle;\n",
       "    }\n",
       "\n",
       "    .dataframe tbody tr th {\n",
       "        vertical-align: top;\n",
       "    }\n",
       "\n",
       "    .dataframe thead th {\n",
       "        text-align: right;\n",
       "    }\n",
       "</style>\n",
       "<table border=\"1\" class=\"dataframe\">\n",
       "  <thead>\n",
       "    <tr style=\"text-align: right;\">\n",
       "      <th></th>\n",
       "      <th>Predicted</th>\n",
       "    </tr>\n",
       "  </thead>\n",
       "  <tbody>\n",
       "    <tr>\n",
       "      <th>0</th>\n",
       "      <td>1</td>\n",
       "    </tr>\n",
       "    <tr>\n",
       "      <th>1</th>\n",
       "      <td>1</td>\n",
       "    </tr>\n",
       "    <tr>\n",
       "      <th>2</th>\n",
       "      <td>0</td>\n",
       "    </tr>\n",
       "    <tr>\n",
       "      <th>3</th>\n",
       "      <td>0</td>\n",
       "    </tr>\n",
       "    <tr>\n",
       "      <th>4</th>\n",
       "      <td>1</td>\n",
       "    </tr>\n",
       "    <tr>\n",
       "      <th>...</th>\n",
       "      <td>...</td>\n",
       "    </tr>\n",
       "    <tr>\n",
       "      <th>12521</th>\n",
       "      <td>1</td>\n",
       "    </tr>\n",
       "    <tr>\n",
       "      <th>12522</th>\n",
       "      <td>1</td>\n",
       "    </tr>\n",
       "    <tr>\n",
       "      <th>12523</th>\n",
       "      <td>0</td>\n",
       "    </tr>\n",
       "    <tr>\n",
       "      <th>12524</th>\n",
       "      <td>1</td>\n",
       "    </tr>\n",
       "    <tr>\n",
       "      <th>12525</th>\n",
       "      <td>1</td>\n",
       "    </tr>\n",
       "  </tbody>\n",
       "</table>\n",
       "<p>12526 rows × 1 columns</p>\n",
       "</div>"
      ],
      "text/plain": [
       "       Predicted\n",
       "0              1\n",
       "1              1\n",
       "2              0\n",
       "3              0\n",
       "4              1\n",
       "...          ...\n",
       "12521          1\n",
       "12522          1\n",
       "12523          0\n",
       "12524          1\n",
       "12525          1\n",
       "\n",
       "[12526 rows x 1 columns]"
      ]
     },
     "execution_count": 29,
     "metadata": {},
     "output_type": "execute_result"
    }
   ],
   "source": [
    "prediction_df"
   ]
  },
  {
   "cell_type": "code",
   "execution_count": null,
   "id": "c1544134",
   "metadata": {},
   "outputs": [],
   "source": []
  }
 ],
 "metadata": {
  "kernelspec": {
   "display_name": "Python 3 (ipykernel)",
   "language": "python",
   "name": "python3"
  },
  "language_info": {
   "codemirror_mode": {
    "name": "ipython",
    "version": 3
   },
   "file_extension": ".py",
   "mimetype": "text/x-python",
   "name": "python",
   "nbconvert_exporter": "python",
   "pygments_lexer": "ipython3",
   "version": "3.9.12"
  },
  "papermill": {
   "default_parameters": {},
   "duration": 1718.815626,
   "end_time": "2022-09-13T15:26:22.180859",
   "environment_variables": {},
   "exception": null,
   "input_path": "__notebook__.ipynb",
   "output_path": "__notebook__.ipynb",
   "parameters": {},
   "start_time": "2022-09-13T14:57:43.365233",
   "version": "2.3.4"
  }
 },
 "nbformat": 4,
 "nbformat_minor": 5
}
